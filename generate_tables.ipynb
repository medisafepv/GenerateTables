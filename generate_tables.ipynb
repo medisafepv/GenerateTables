{
 "cells": [
  {
   "cell_type": "markdown",
   "id": "36d99e1b-c32a-40e9-b88a-1ecf7e8b7507",
   "metadata": {
    "deletable": false,
    "editable": false,
    "tags": []
   },
   "source": [
    "# Generate Exposure Tables \n",
    "\n",
    "Given **source data (.xlsx)**, generate:\n",
    "\n",
    "1. 노출기간별 (Duration)\n",
    "2. 성별, 연령별 \n",
    "3. 투여용량별 \n",
    "4. 인종별"
   ]
  },
  {
   "cell_type": "markdown",
   "id": "334e9c22-b458-45f3-8e98-36d34bfceef9",
   "metadata": {
    "deletable": false,
    "editable": false,
    "tags": []
   },
   "source": [
    "참고사항: 엑셀 컬럼 제목들은 중요하지 않으니 (예: 'Subject number'를 아무 문자열로 표현 가능 `0-9한글english.,/;:-+(){}[]!@#$%&*~`등), 컬럼들의 의미는 아래와같이 순서대로 매칭 되있어야합니다.\n",
    "\n",
    "**source data (.xlsx) 제목 순서**\n",
    "\n",
    "| A              | B   | C   | D    | E      | F        | G                  | H |\n",
    "|----------------|-----|-----|------|--------|----------|--------------------|---|\n",
    "| Subject number | Sex | Age | 인종 | Dosage (mg) | Duration (단위$^{1}$) | Person time (year) |  Comment etc.$^{2}$ |\n",
    "\n",
    "* $^{1}$자동 인식 단위: day(s), week(s), month(s), year(s).\n",
    "* $^{2}$컬럼 G가 마지막으로 읽히는 컬럼입니다."
   ]
  },
  {
   "cell_type": "markdown",
   "id": "855e141b-1ccb-4f69-b669-279a9cb1a80a",
   "metadata": {
    "deletable": false,
    "editable": false,
    "tags": []
   },
   "source": [
    "### Code\n",
    "\n",
    "Cell을 순서대로 선택하고 (오른 마우스 클릭) 파랗게 선택된 상태에 cell을 실행하세요 `Shift` + `Enter`\n",
    "* Cell 옆에 별표 `[*]`은 계산중이나 사용자 입력을 기다리는 뜻을 의미합니다.\n",
    "* 파일 업로드 후, `(1)` 표시 확인.\n",
    "* 파일을 다시 업로드하는 경우, cell을 다시 실행 하세요. `(0)` 표시 확인."
   ]
  },
  {
   "cell_type": "code",
   "execution_count": 1,
   "id": "3a8f68f0-fbc3-4840-bcbc-0874b949d84c",
   "metadata": {
    "deletable": false,
    "editable": false,
    "tags": []
   },
   "outputs": [
    {
     "data": {
      "application/vnd.jupyter.widget-view+json": {
       "model_id": "f8e0c73d5493425cbcc2808709cbf71f",
       "version_major": 2,
       "version_minor": 0
      },
      "text/plain": [
       "FileUpload(value={}, description='Source Data (.xlsx)', layout=Layout(width='250px'))"
      ]
     },
     "metadata": {},
     "output_type": "display_data"
    }
   ],
   "source": [
    "import utility\n",
    "uploaded = utility.prompt_upload(\"Source Data (.xlsx)\")"
   ]
  },
  {
   "cell_type": "markdown",
   "id": "10dcb399-7b2b-445f-8726-0c1ce8ced321",
   "metadata": {
    "deletable": false,
    "editable": false,
    "tags": []
   },
   "source": [
    "에러나 다시 입력해야하는 경우의 위에 중지 (▣)을 누르시고, cell을 다시 실행하세요"
   ]
  },
  {
   "cell_type": "code",
   "execution_count": 15,
   "id": "64b89056-5af0-40d1-811c-ba8fac811079",
   "metadata": {},
   "outputs": [
    {
     "name": "stdout",
     "output_type": "stream",
     "text": [
      "투여기간 단위: Day\n"
     ]
    }
   ],
   "source": [
    "df = utility.read_file(uploaded, sheet=1)\n",
    "processed = utility.process_source_data(df)"
   ]
  },
  {
   "cell_type": "code",
   "execution_count": 25,
   "id": "4daa47b5-12cd-443b-80c7-94a66ca683ce",
   "metadata": {},
   "outputs": [
    {
     "name": "stdout",
     "output_type": "stream",
     "text": [
      "****************************************\n",
      "(1) 노출기간별 (Duration)\n",
      "****************************************\n"
     ]
    },
    {
     "data": {
      "text/html": [
       "<div>\n",
       "<style scoped>\n",
       "    .dataframe tbody tr th:only-of-type {\n",
       "        vertical-align: middle;\n",
       "    }\n",
       "\n",
       "    .dataframe tbody tr th {\n",
       "        vertical-align: top;\n",
       "    }\n",
       "\n",
       "    .dataframe thead th {\n",
       "        text-align: right;\n",
       "    }\n",
       "</style>\n",
       "<table border=\"1\" class=\"dataframe\">\n",
       "  <thead>\n",
       "    <tr style=\"text-align: right;\">\n",
       "      <th></th>\n",
       "      <th>Duration of Exposure</th>\n",
       "      <th>Patients</th>\n",
       "      <th>Patient Year of Exposure (PYE)</th>\n",
       "    </tr>\n",
       "  </thead>\n",
       "  <tbody>\n",
       "    <tr>\n",
       "      <th>0</th>\n",
       "      <td>&lt; 1 Day</td>\n",
       "      <td>4</td>\n",
       "      <td>0.000</td>\n",
       "    </tr>\n",
       "    <tr>\n",
       "      <th>1</th>\n",
       "      <td>≥ 1 Day</td>\n",
       "      <td>0</td>\n",
       "      <td>0.000</td>\n",
       "    </tr>\n",
       "    <tr>\n",
       "      <th>2</th>\n",
       "      <td>≥ 6 Weeks</td>\n",
       "      <td>4</td>\n",
       "      <td>0.463</td>\n",
       "    </tr>\n",
       "    <tr>\n",
       "      <th>3</th>\n",
       "      <td>≥ 12 Weeks</td>\n",
       "      <td>4</td>\n",
       "      <td>0.923</td>\n",
       "    </tr>\n",
       "    <tr>\n",
       "      <th>4</th>\n",
       "      <td>≥ 26 Weeks</td>\n",
       "      <td>3</td>\n",
       "      <td>1.496</td>\n",
       "    </tr>\n",
       "    <tr>\n",
       "      <th>5</th>\n",
       "      <td>≥ 52 Weeks</td>\n",
       "      <td>3</td>\n",
       "      <td>2.992</td>\n",
       "    </tr>\n",
       "    <tr>\n",
       "      <th>6</th>\n",
       "      <td>Total</td>\n",
       "      <td>18</td>\n",
       "      <td>5.874</td>\n",
       "    </tr>\n",
       "  </tbody>\n",
       "</table>\n",
       "</div>"
      ],
      "text/plain": [
       "  Duration of Exposure  Patients  Patient Year of Exposure (PYE)\n",
       "0              < 1 Day         4                           0.000\n",
       "1              ≥ 1 Day         0                           0.000\n",
       "2            ≥ 6 Weeks         4                           0.463\n",
       "3           ≥ 12 Weeks         4                           0.923\n",
       "4           ≥ 26 Weeks         3                           1.496\n",
       "5           ≥ 52 Weeks         3                           2.992\n",
       "6                Total        18                           5.874"
      ]
     },
     "execution_count": 25,
     "metadata": {},
     "output_type": "execute_result"
    }
   ],
   "source": [
    "t1 = utility.generate_duration(processed, dp=3, compute_total=True)\n",
    "t1"
   ]
  },
  {
   "cell_type": "code",
   "execution_count": 17,
   "id": "fc3d1d9b-3dca-499c-af61-18e8778b6e14",
   "metadata": {},
   "outputs": [
    {
     "name": "stdout",
     "output_type": "stream",
     "text": [
      "****************************************\n",
      "(2) 성별, 연령별 \n",
      "****************************************\n"
     ]
    },
    {
     "data": {
      "text/html": [
       "<div>\n",
       "<style scoped>\n",
       "    .dataframe tbody tr th:only-of-type {\n",
       "        vertical-align: middle;\n",
       "    }\n",
       "\n",
       "    .dataframe tbody tr th {\n",
       "        vertical-align: top;\n",
       "    }\n",
       "\n",
       "    .dataframe thead tr th {\n",
       "        text-align: left;\n",
       "    }\n",
       "</style>\n",
       "<table border=\"1\" class=\"dataframe\">\n",
       "  <thead>\n",
       "    <tr>\n",
       "      <th></th>\n",
       "      <th>Age group - all indications</th>\n",
       "      <th colspan=\"2\" halign=\"left\">Patients</th>\n",
       "      <th colspan=\"2\" halign=\"left\">Person time (person-year)</th>\n",
       "    </tr>\n",
       "    <tr>\n",
       "      <th></th>\n",
       "      <th></th>\n",
       "      <th>M</th>\n",
       "      <th>F</th>\n",
       "      <th>M</th>\n",
       "      <th>F</th>\n",
       "    </tr>\n",
       "  </thead>\n",
       "  <tbody>\n",
       "    <tr>\n",
       "      <th>0</th>\n",
       "      <td>0 to 11 years</td>\n",
       "      <td>3</td>\n",
       "      <td>3</td>\n",
       "      <td>1.50</td>\n",
       "      <td>0.35</td>\n",
       "    </tr>\n",
       "    <tr>\n",
       "      <th>1</th>\n",
       "      <td>12 to 17 years</td>\n",
       "      <td>2</td>\n",
       "      <td>3</td>\n",
       "      <td>0.35</td>\n",
       "      <td>1.50</td>\n",
       "    </tr>\n",
       "    <tr>\n",
       "      <th>2</th>\n",
       "      <td>18 to 64 years</td>\n",
       "      <td>0</td>\n",
       "      <td>2</td>\n",
       "      <td>0.00</td>\n",
       "      <td>0.35</td>\n",
       "    </tr>\n",
       "    <tr>\n",
       "      <th>3</th>\n",
       "      <td>65 to 74 years</td>\n",
       "      <td>0</td>\n",
       "      <td>3</td>\n",
       "      <td>0.00</td>\n",
       "      <td>1.50</td>\n",
       "    </tr>\n",
       "    <tr>\n",
       "      <th>4</th>\n",
       "      <td>≥ 75 years</td>\n",
       "      <td>0</td>\n",
       "      <td>2</td>\n",
       "      <td>0.00</td>\n",
       "      <td>0.35</td>\n",
       "    </tr>\n",
       "    <tr>\n",
       "      <th>5</th>\n",
       "      <td>Total</td>\n",
       "      <td>5</td>\n",
       "      <td>13</td>\n",
       "      <td>1.85</td>\n",
       "      <td>4.05</td>\n",
       "    </tr>\n",
       "  </tbody>\n",
       "</table>\n",
       "</div>"
      ],
      "text/plain": [
       "  Age group - all indications Patients     Person time (person-year)      \n",
       "                                     M   F                         M     F\n",
       "0               0 to 11 years        3   3                      1.50  0.35\n",
       "1              12 to 17 years        2   3                      0.35  1.50\n",
       "2              18 to 64 years        0   2                      0.00  0.35\n",
       "3              65 to 74 years        0   3                      0.00  1.50\n",
       "4                  ≥ 75 years        0   2                      0.00  0.35\n",
       "5                       Total        5  13                      1.85  4.05"
      ]
     },
     "execution_count": 17,
     "metadata": {},
     "output_type": "execute_result"
    }
   ],
   "source": [
    "t2 = utility.generate_age_gender(processed, dp=2, compute_total=True) \n",
    "t2"
   ]
  },
  {
   "cell_type": "code",
   "execution_count": 18,
   "id": "decfc52e-a0ba-4a5c-acc6-99f3d0b78319",
   "metadata": {},
   "outputs": [
    {
     "name": "stdout",
     "output_type": "stream",
     "text": [
      "****************************************\n",
      "(3) 투여용량별 \n",
      "****************************************\n"
     ]
    },
    {
     "data": {
      "text/html": [
       "<div>\n",
       "<style scoped>\n",
       "    .dataframe tbody tr th:only-of-type {\n",
       "        vertical-align: middle;\n",
       "    }\n",
       "\n",
       "    .dataframe tbody tr th {\n",
       "        vertical-align: top;\n",
       "    }\n",
       "\n",
       "    .dataframe thead th {\n",
       "        text-align: right;\n",
       "    }\n",
       "</style>\n",
       "<table border=\"1\" class=\"dataframe\">\n",
       "  <thead>\n",
       "    <tr style=\"text-align: right;\">\n",
       "      <th></th>\n",
       "      <th>Daily Dose of Exposure</th>\n",
       "      <th>Patients</th>\n",
       "      <th>Patient Year of Exposure (PYE)</th>\n",
       "    </tr>\n",
       "  </thead>\n",
       "  <tbody>\n",
       "    <tr>\n",
       "      <th>0</th>\n",
       "      <td>≤ 2.5 mg</td>\n",
       "      <td>6</td>\n",
       "      <td>1.19</td>\n",
       "    </tr>\n",
       "    <tr>\n",
       "      <th>1</th>\n",
       "      <td>&gt; 2.5 mg to ≤ 5 mg</td>\n",
       "      <td>3</td>\n",
       "      <td>1.73</td>\n",
       "    </tr>\n",
       "    <tr>\n",
       "      <th>2</th>\n",
       "      <td>&gt; 5 mg to ≤ 10 mg</td>\n",
       "      <td>3</td>\n",
       "      <td>1.50</td>\n",
       "    </tr>\n",
       "    <tr>\n",
       "      <th>3</th>\n",
       "      <td>&gt; 10 mg to ≤ 15 mg</td>\n",
       "      <td>3</td>\n",
       "      <td>1.12</td>\n",
       "    </tr>\n",
       "    <tr>\n",
       "      <th>4</th>\n",
       "      <td>&gt; 15 mg to ≤ 20 mg</td>\n",
       "      <td>2</td>\n",
       "      <td>0.23</td>\n",
       "    </tr>\n",
       "    <tr>\n",
       "      <th>5</th>\n",
       "      <td>&gt; 20 mg</td>\n",
       "      <td>1</td>\n",
       "      <td>0.12</td>\n",
       "    </tr>\n",
       "    <tr>\n",
       "      <th>0</th>\n",
       "      <td>Total</td>\n",
       "      <td>18</td>\n",
       "      <td>5.89</td>\n",
       "    </tr>\n",
       "  </tbody>\n",
       "</table>\n",
       "</div>"
      ],
      "text/plain": [
       "  Daily Dose of Exposure  Patients  Patient Year of Exposure (PYE)\n",
       "0               ≤ 2.5 mg         6                            1.19\n",
       "1     > 2.5 mg to ≤ 5 mg         3                            1.73\n",
       "2      > 5 mg to ≤ 10 mg         3                            1.50\n",
       "3     > 10 mg to ≤ 15 mg         3                            1.12\n",
       "4     > 15 mg to ≤ 20 mg         2                            0.23\n",
       "5                > 20 mg         1                            0.12\n",
       "0                  Total        18                            5.89"
      ]
     },
     "execution_count": 18,
     "metadata": {},
     "output_type": "execute_result"
    }
   ],
   "source": [
    "t3 = utility.generate_dose(processed, dp=2, compute_total=True)\n",
    "t3"
   ]
  },
  {
   "cell_type": "code",
   "execution_count": 13,
   "id": "2b3a2256-b2ed-4df8-9b6f-1cc98187802f",
   "metadata": {},
   "outputs": [
    {
     "name": "stdout",
     "output_type": "stream",
     "text": [
      "****************************************\n",
      "(4) 인종별 \n",
      "****************************************\n"
     ]
    },
    {
     "name": "stdin",
     "output_type": "stream",
     "text": [
      "'Other' 인종 그룹 만들기 (y/n):  n\n"
     ]
    },
    {
     "data": {
      "text/html": [
       "<div>\n",
       "<style scoped>\n",
       "    .dataframe tbody tr th:only-of-type {\n",
       "        vertical-align: middle;\n",
       "    }\n",
       "\n",
       "    .dataframe tbody tr th {\n",
       "        vertical-align: top;\n",
       "    }\n",
       "\n",
       "    .dataframe thead th {\n",
       "        text-align: right;\n",
       "    }\n",
       "</style>\n",
       "<table border=\"1\" class=\"dataframe\">\n",
       "  <thead>\n",
       "    <tr style=\"text-align: right;\">\n",
       "      <th></th>\n",
       "      <th>Race</th>\n",
       "      <th>Patients (n [%])</th>\n",
       "      <th>Person Time (subject-year)</th>\n",
       "    </tr>\n",
       "  </thead>\n",
       "  <tbody>\n",
       "    <tr>\n",
       "      <th>0</th>\n",
       "      <td>American Indian Or Alaska Native</td>\n",
       "      <td>3 (16.67)</td>\n",
       "      <td>1.50</td>\n",
       "    </tr>\n",
       "    <tr>\n",
       "      <th>1</th>\n",
       "      <td>Asian</td>\n",
       "      <td>4 (22.22)</td>\n",
       "      <td>0.92</td>\n",
       "    </tr>\n",
       "    <tr>\n",
       "      <th>2</th>\n",
       "      <td>Black Or African American</td>\n",
       "      <td>4 (22.22)</td>\n",
       "      <td>0.46</td>\n",
       "    </tr>\n",
       "    <tr>\n",
       "      <th>3</th>\n",
       "      <td>Native Hawaiian Or Other Pacific Islander</td>\n",
       "      <td>3 (16.67)</td>\n",
       "      <td>2.99</td>\n",
       "    </tr>\n",
       "    <tr>\n",
       "      <th>4</th>\n",
       "      <td>White</td>\n",
       "      <td>4 (22.22)</td>\n",
       "      <td>0.00</td>\n",
       "    </tr>\n",
       "    <tr>\n",
       "      <th>5</th>\n",
       "      <td>Total</td>\n",
       "      <td>18 (100.0)</td>\n",
       "      <td>5.87</td>\n",
       "    </tr>\n",
       "  </tbody>\n",
       "</table>\n",
       "</div>"
      ],
      "text/plain": [
       "                                        Race Patients (n [%])  \\\n",
       "0           American Indian Or Alaska Native        3 (16.67)   \n",
       "1                                      Asian        4 (22.22)   \n",
       "2                  Black Or African American        4 (22.22)   \n",
       "3  Native Hawaiian Or Other Pacific Islander        3 (16.67)   \n",
       "4                                      White        4 (22.22)   \n",
       "5                                      Total       18 (100.0)   \n",
       "\n",
       "   Person Time (subject-year)  \n",
       "0                        1.50  \n",
       "1                        0.92  \n",
       "2                        0.46  \n",
       "3                        2.99  \n",
       "4                        0.00  \n",
       "5                        5.87  "
      ]
     },
     "execution_count": 13,
     "metadata": {},
     "output_type": "execute_result"
    }
   ],
   "source": [
    "t4 = utility.generate_race(processed, dp=2, compute_total=True)\n",
    "t4"
   ]
  },
  {
   "cell_type": "markdown",
   "id": "36f53b4e-eb12-49bf-9d09-8f031985f349",
   "metadata": {
    "deletable": false,
    "editable": false,
    "tags": []
   },
   "source": [
    "파일 내보내기: \n",
    "1. `export(\"파일 이름.xlsx\", ...)`함수안에 원하는 파일 이름으로 편집 (끝에 \".xlsx\"은 필수).\n",
    "2. Cell을 선택하고 실행 해주세요 (`Shift` + `Enter`).\n",
    "3. 왼쪽 파일 탐색기에서 엑셀 파일이 만들어집니다. 만들어진 파일에 오른쪽 마우스 클릭을 누르시고 `download` 옵션을 선택하세요."
   ]
  },
  {
   "cell_type": "code",
   "execution_count": 14,
   "id": "b795f096-1503-496e-bd7b-9cb9aa4700f3",
   "metadata": {},
   "outputs": [],
   "source": [
    "utility.export(\"파일 이름.xlsx\", [t1, t2, t3, t4])"
   ]
  }
 ],
 "metadata": {
  "kernelspec": {
   "display_name": "Python 3 (ipykernel)",
   "language": "python",
   "name": "python3"
  },
  "language_info": {
   "codemirror_mode": {
    "name": "ipython",
    "version": 3
   },
   "file_extension": ".py",
   "mimetype": "text/x-python",
   "name": "python",
   "nbconvert_exporter": "python",
   "pygments_lexer": "ipython3",
   "version": "3.9.12"
  }
 },
 "nbformat": 4,
 "nbformat_minor": 5
}
